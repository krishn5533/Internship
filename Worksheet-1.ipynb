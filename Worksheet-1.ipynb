{
 "cells": [
  {
   "cell_type": "markdown",
   "id": "9ece0502",
   "metadata": {},
   "source": [
    "# PYTHON – WORKSHEET 1\n",
    "\n",
    "\n"
   ]
  },
  {
   "cell_type": "markdown",
   "id": "c46fb0b1",
   "metadata": {},
   "source": [
    "# 11. Write a python program to find the factorial of a number."
   ]
  },
  {
   "cell_type": "code",
   "execution_count": 13,
   "id": "ccce90c1",
   "metadata": {},
   "outputs": [
    {
     "name": "stdout",
     "output_type": "stream",
     "text": [
      "Enter a number:5\n",
      "factorial of 0 is 120\n"
     ]
    }
   ],
   "source": [
    "fact = 1\n",
    "num = int(input(\"Enter a number:\"))\n",
    "while num>0:\n",
    "    fact = fact * num\n",
    "    num = num - 1\n",
    "    \n",
    "print(\"factorial of\",num,\"is\",fact)\n",
    "\n",
    "    \n",
    "    "
   ]
  },
  {
   "cell_type": "markdown",
   "id": "f15b43e6",
   "metadata": {},
   "source": [
    "# 12. Write a python program to find whether a number is prime or composite.\n"
   ]
  },
  {
   "cell_type": "code",
   "execution_count": 1,
   "id": "0ae3bb01",
   "metadata": {},
   "outputs": [
    {
     "name": "stdout",
     "output_type": "stream",
     "text": [
      "Enter a number: 9\n",
      "9 is a composite number\n"
     ]
    }
   ],
   "source": [
    "num = int(input('Enter a number: ' ))\n",
    "#To check if the number is negitive,positive or zero\n",
    "if num < 1:\n",
    "    print('Number needs to be greater than 1')\n",
    "elif num == 1:\n",
    "    print(num, 'is nither prime number nor composite number')\n",
    "else:\n",
    "    for i in range(2,(num//2)+1):\n",
    "        if(num % i)==0:\n",
    "            print(num, 'is a composite number')\n",
    "            break\n",
    "    else:\n",
    "        print(num, 'is a prime number')"
   ]
  },
  {
   "cell_type": "markdown",
   "id": "99c0dcad",
   "metadata": {},
   "source": [
    "# 13. Write a python program to check whether a given string is palindrome or not."
   ]
  },
  {
   "cell_type": "code",
   "execution_count": 3,
   "id": "96729ac2",
   "metadata": {},
   "outputs": [
    {
     "name": "stdout",
     "output_type": "stream",
     "text": [
      "Enter a word:madam\n",
      "madam : is a palindrome.\n"
     ]
    }
   ],
   "source": [
    "a = input('Enter a word:' )\n",
    "b = a[-1::-1] \n",
    "if(a == b):\n",
    "    print(a, ': is a palindrome.')\n",
    "else:\n",
    "    print(a, ': not a palindrome.')"
   ]
  },
  {
   "cell_type": "markdown",
   "id": "c064f60f",
   "metadata": {},
   "source": [
    "# 14. Write a Python program to get the third side of right-angled triangle from two given sides."
   ]
  },
  {
   "cell_type": "code",
   "execution_count": 5,
   "id": "a1216dc9",
   "metadata": {},
   "outputs": [
    {
     "name": "stdout",
     "output_type": "stream",
     "text": [
      "enter the base of the right angled triangle 6\n",
      "enter the perpendicular of the right angled triangle 7\n",
      "the length of hypotenuse is  9.219544457292887\n"
     ]
    }
   ],
   "source": [
    "import math\n",
    "a=int(input(\"enter the base of the right angled triangle \"))\n",
    "b=int(input(\"enter the perpendicular of the right angled triangle \"))\n",
    "print(\"the length of hypotenuse is \",math.sqrt(a**2+b**2))"
   ]
  },
  {
   "cell_type": "markdown",
   "id": "42a9aaef",
   "metadata": {},
   "source": [
    "# 15. Write a python program to print the frequency of each of the characters present in a given string."
   ]
  },
  {
   "cell_type": "code",
   "execution_count": 7,
   "id": "88b43164",
   "metadata": {},
   "outputs": [
    {
     "name": "stdout",
     "output_type": "stream",
     "text": [
      "enter a word or sentence: ramshyam\n",
      "please enter the character to find it's frequency: m\n",
      "The frequency of the m in the string is:  2\n"
     ]
    }
   ],
   "source": [
    "a = input('enter a word or sentence: ')\n",
    "char = input(\"please enter the character to find it's frequency: \")\n",
    "\n",
    "count = 0\n",
    "for i in range(len(a)):\n",
    "    if(a[i] == char):\n",
    "        count = count + 1\n",
    "print('The frequency of the',char,'in the string is: ',count)\n"
   ]
  }
 ],
 "metadata": {
  "kernelspec": {
   "display_name": "Python 3 (ipykernel)",
   "language": "python",
   "name": "python3"
  },
  "language_info": {
   "codemirror_mode": {
    "name": "ipython",
    "version": 3
   },
   "file_extension": ".py",
   "mimetype": "text/x-python",
   "name": "python",
   "nbconvert_exporter": "python",
   "pygments_lexer": "ipython3",
   "version": "3.9.7"
  }
 },
 "nbformat": 4,
 "nbformat_minor": 5
}
